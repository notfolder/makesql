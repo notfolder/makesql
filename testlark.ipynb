{
 "cells": [
  {
   "cell_type": "code",
   "execution_count": 1,
   "metadata": {},
   "outputs": [],
   "source": [
    "import sys\n",
    "from lark import Lark\n",
    "from lark.visitors import Transformer\n",
    "import statistics"
   ]
  },
  {
   "cell_type": "code",
   "execution_count": 2,
   "metadata": {},
   "outputs": [],
   "source": [
    "# インタプリタの本体\n",
    "class ExprTransformer(Transformer):\n",
    "    def max(self, args):\n",
    "        return max(args)\n",
    "    def min(self, args):\n",
    "        return min(args)\n",
    "    def min(self, args):\n",
    "        return min(args)\n",
    "    def mean(self, args):\n",
    "        return statistics.mean(args)\n",
    "    def median(self, args):\n",
    "        return statistics.median(args)\n",
    "    def add(self, args):\n",
    "        return args[0] + args[1]\n",
    "    def sub(self, args):\n",
    "        return args[0] - args[1]\n",
    "    def mul(self, args):\n",
    "        return args[0] * args[1]\n",
    "    def div(self, args):\n",
    "        return args[0] / args[1]\n",
    "    def unary_minus(self, args):\n",
    "        return -args[0]\n",
    "    def unary_plus(self, args):\n",
    "        return +args[0]\n",
    "    def number(self, args):\n",
    "        return float(args[0])\n",
    "    def symbol(self, args):\n",
    "        return str(args[0])"
   ]
  },
  {
   "cell_type": "code",
   "execution_count": 3,
   "metadata": {},
   "outputs": [
    {
     "name": "stdout",
     "output_type": "stream",
     "text": [
      "6.0\n"
     ]
    }
   ],
   "source": [
    "args = [\"\", \"expr.txt\"]\n",
    "file_name = args[1]\n",
    "with open(\"./testlark.lark\", encoding=\"utf-8\") as grammar:\n",
    "    with open(\"./\"+file_name,encoding=\"utf-8\") as file:\n",
    "        text=file.read().replace(\"\\n\",\"\").replace(\" \",\"\").replace(\"\\t\",\"\") #改行、スペース、タブは排除\n",
    "        parser = Lark(grammar.read(), parser='lalr', start=\"expr\", transformer=ExprTransformer()) # 式のみ\n",
    "        result = parser.parse(text)\n",
    "        print(result)"
   ]
  },
  {
   "cell_type": "code",
   "execution_count": null,
   "metadata": {},
   "outputs": [],
   "source": []
  }
 ],
 "metadata": {
  "kernelspec": {
   "display_name": "vue-backend",
   "language": "python",
   "name": "python3"
  },
  "language_info": {
   "codemirror_mode": {
    "name": "ipython",
    "version": 3
   },
   "file_extension": ".py",
   "mimetype": "text/x-python",
   "name": "python",
   "nbconvert_exporter": "python",
   "pygments_lexer": "ipython3",
   "version": "3.11.9"
  }
 },
 "nbformat": 4,
 "nbformat_minor": 2
}
