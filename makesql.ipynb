{
 "cells": [
  {
   "cell_type": "code",
   "execution_count": 1,
   "metadata": {},
   "outputs": [],
   "source": [
    "from lark import Lark\n",
    "from lark.visitors import Transformer, v_args\n",
    "from __future__ import annotations"
   ]
  },
  {
   "cell_type": "code",
   "execution_count": 6,
   "metadata": {},
   "outputs": [],
   "source": [
    "class FieldAndTale:\n",
    "    def __init__(self, field:str, table: str, group_by: str, pos: int, tables=None):\n",
    "        self.field = field\n",
    "        self.value_table = table\n",
    "        self.tables = set([table])\n",
    "        if tables is not None:\n",
    "            self.tables = tables\n",
    "        self.group_by = group_by\n",
    "        self.pos = pos\n",
    "        self.withs = [] # 縦横変換用 サブクエリテーブル定義\n",
    "\n",
    "    def __str__(self):\n",
    "        return \", \".join(self.withs) + f\"SELECT {self.field} FROM {', '.join(self.tables)} GROUP BY {self.value_table}.{self.group_by};\"\n",
    "    \n",
    "    def add_unary(self, unary: str) -> FieldAndTale:\n",
    "        self.field = f\"{unary}({self.field})\"\n",
    "        return self\n",
    "\n",
    "    @staticmethod\n",
    "    def merge_FieldAndTable(a: FieldAndTale, ope: str, b: FieldAndTale, pos: int):\n",
    "        field = f\"({a.field}){ope}({b.field})\"\n",
    "        tables = a.tables | b.tables\n",
    "        return FieldAndTale(field, a.value_table, a.group_by, pos, tables)"
   ]
  },
  {
   "cell_type": "code",
   "execution_count": 7,
   "metadata": {},
   "outputs": [],
   "source": [
    "# インタプリタの本体\n",
    "# SQL文に変換する\n",
    "class ExprTransformer(Transformer):\n",
    "    def __init__(self, table_name:str, group_by: str, visit_tokens = True):\n",
    "        super().__init__(visit_tokens)\n",
    "        self.table_name = table_name\n",
    "        self.group_by = group_by\n",
    "    @v_args(meta=True)\n",
    "    def max(self, meta, args):\n",
    "        # TODO: ★項目間関数群をUNIONを使って縦積みして計算するように修正\n",
    "        return f\"MAX({', '.join(args)})\"\n",
    "    @v_args(meta=True)\n",
    "    def min(self, meta, args):\n",
    "        return f\"MIN({', '.join(args)})\"\n",
    "    @v_args(meta=True)\n",
    "    def mean(self, meta, args):\n",
    "        return f\"MEAN({', '.join(args)})\"\n",
    "    @v_args(meta=True)\n",
    "    def median(self, meta, args):\n",
    "        return f\"MEDIAN({', '.join(args)})\"\n",
    "    @v_args(meta=True)\n",
    "    def add(self, meta, args):\n",
    "        # return f\"({args[0]}) + ({args[1]})\"\n",
    "        return FieldAndTale.merge_FieldAndTable(args[0], \"+\", args[1], meta.column)\n",
    "    @v_args(meta=True)\n",
    "    def sub(self, meta, args):\n",
    "        # return f\"({args[0]}) - ({args[1]})\"\n",
    "        return FieldAndTale.merge_FieldAndTable(args[0], \"-\", args[1], meta.column)\n",
    "    @v_args(meta=True)\n",
    "    def mul(self, meta, args):\n",
    "        # return f\"({args[0]}) * ({args[1]})\"\n",
    "        return FieldAndTale.merge_FieldAndTable(args[0], \"*\", args[1], meta.column)\n",
    "    @v_args(meta=True)\n",
    "    def div(self, meta, args):\n",
    "        # return f\"({args[0]}) / ({args[1]})\"\n",
    "        return FieldAndTale.merge_FieldAndTable(args[0], \"/\", args[1], meta.column)\n",
    "    @v_args(meta=True)\n",
    "    def unary_minus(self, meta, args):\n",
    "        # return f\"-({args[0]})\"\n",
    "        return args[0].add_unary(\"-\")\n",
    "    @v_args(meta=True)\n",
    "    def unary_plus(self, meta, args):\n",
    "        # return f\"+({args[0]})\"\n",
    "        return args[0].add_unary(\"+\")\n",
    "    @v_args(meta=True)\n",
    "    def number(self, meta, args):\n",
    "        # return str(float(args[0]))\n",
    "        return FieldAndTale(field=args[0], table=self.table_name, group_by=self.group_by, pos=meta.column)\n",
    "    @v_args(meta=True)\n",
    "    def symbol(self, meta, args):\n",
    "        # return str(args[0])\n",
    "        # 計測項目については、データが入っているテーブル名を指定\n",
    "        return FieldAndTale(field=f\"{args[0]}.{self.table_name}\", table=self.table_name, group_by=self.group_by, pos=meta.column)"
   ]
  },
  {
   "cell_type": "code",
   "execution_count": 8,
   "metadata": {},
   "outputs": [
    {
     "name": "stdout",
     "output_type": "stream",
     "text": [
      "SELECT (-(1.5))+(TEST_1.hive_table) FROM hive_table GROUP BY hive_table.wafer_id;\n"
     ]
    }
   ],
   "source": [
    "args = [\"\", \"sql.txt\"]\n",
    "file_name = args[1]\n",
    "with open(\"./testlark.lark\", encoding=\"utf-8\") as grammar:\n",
    "    with open(\"./\"+file_name,encoding=\"utf-8\") as file:\n",
    "        # text=file.read().replace(\"\\n\",\"\").replace(\" \",\"\").replace(\"\\t\",\"\") # 改行、スペース、タブは排除\n",
    "        text=file.read()\n",
    "        # parser = Lark(grammar.read(), parser='lalr', start=\"expr\", transformer=ExprTransformer()) # 式のみ\n",
    "        # result = parser.parse(text)\n",
    "        parser = Lark(grammar.read(), parser='lalr', start=\"expr\", propagate_positions=True)\n",
    "        tree = parser.parse(text)\n",
    "        # データが入っているテーブル名と集計単位用フィールドを指定して変換\n",
    "        result = ExprTransformer(\"hive_table\", \"wafer_id\").transform(tree)\n",
    "        print(result)"
   ]
  },
  {
   "cell_type": "code",
   "execution_count": null,
   "metadata": {},
   "outputs": [],
   "source": []
  },
  {
   "cell_type": "code",
   "execution_count": null,
   "metadata": {},
   "outputs": [],
   "source": []
  }
 ],
 "metadata": {
  "kernelspec": {
   "display_name": "vue-backend",
   "language": "python",
   "name": "python3"
  },
  "language_info": {
   "codemirror_mode": {
    "name": "ipython",
    "version": 3
   },
   "file_extension": ".py",
   "mimetype": "text/x-python",
   "name": "python",
   "nbconvert_exporter": "python",
   "pygments_lexer": "ipython3",
   "version": "3.11.9"
  }
 },
 "nbformat": 4,
 "nbformat_minor": 2
}
